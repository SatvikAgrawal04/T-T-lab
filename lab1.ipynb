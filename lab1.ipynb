{
 "cells": [
  {
   "cell_type": "code",
   "execution_count": 1,
   "metadata": {},
   "outputs": [
    {
     "name": "stdout",
     "output_type": "stream",
     "text": [
      "Area of triangle is:  25.0\n"
     ]
    }
   ],
   "source": [
    "#area of triangle\n",
    "a = int(input(\"Enter the base \"))\n",
    "b = int(input(\"Enter the height \"))\n",
    "area = 0.5 * a * b\n",
    "print(\"Area of triangle is: \", area)"
   ]
  },
  {
   "cell_type": "code",
   "execution_count": 2,
   "metadata": {},
   "outputs": [
    {
     "name": "stdout",
     "output_type": "stream",
     "text": [
      "8\n",
      "5\n"
     ]
    }
   ],
   "source": [
    "#swap 2 numbers\n",
    "a = 5\n",
    "b = 8\n",
    "temp = a\n",
    "a = b\n",
    "b = temp\n",
    "print(a)\n",
    "print(b)"
   ]
  },
  {
   "cell_type": "code",
   "execution_count": 3,
   "metadata": {},
   "outputs": [
    {
     "name": "stdout",
     "output_type": "stream",
     "text": [
      "The solutions are (-3+0j) and (-2+0j)\n"
     ]
    }
   ],
   "source": [
    "# Solve quadratic equation\n",
    "\n",
    "import cmath\n",
    "\n",
    "def solve_quadratic(a, b, c):\n",
    "    # calculate the discriminant\n",
    "    d = (b**2) - (4*a*c)\n",
    "\n",
    "    # find two solutions\n",
    "    sol1 = (-b-cmath.sqrt(d))/(2*a)\n",
    "    sol2 = (-b+cmath.sqrt(d))/(2*a)\n",
    "\n",
    "    return sol1, sol2\n",
    "\n",
    "a = 1\n",
    "b = 5\n",
    "c = 6\n",
    "\n",
    "sol1, sol2 = solve_quadratic(a, b, c)\n",
    "\n",
    "print(\"The solutions are {0} and {1}\".format(sol1, sol2))\n"
   ]
  },
  {
   "cell_type": "code",
   "execution_count": 5,
   "metadata": {},
   "outputs": [
    {
     "name": "stdout",
     "output_type": "stream",
     "text": [
      "6\n",
      "5\n"
     ]
    }
   ],
   "source": [
    "# swap numbers without using temp variable\n",
    "\n",
    "a = 5\n",
    "b = 6\n",
    "a,b = b,a\n",
    "print(a)\n",
    "print(b)"
   ]
  },
  {
   "cell_type": "code",
   "execution_count": 6,
   "metadata": {},
   "outputs": [
    {
     "name": "stdout",
     "output_type": "stream",
     "text": [
      "20.0 in farenheit is 68.0\n"
     ]
    }
   ],
   "source": [
    "# convert temperature from C to F\n",
    "\n",
    "a = float(input(\"Enter temperature in celcius\"))\n",
    "b = a * (9/5) + 32\n",
    "print(f\"{a} in farenheit is {b}\")"
   ]
  },
  {
   "cell_type": "code",
   "execution_count": 7,
   "metadata": {},
   "outputs": [
    {
     "name": "stdout",
     "output_type": "stream",
     "text": [
      "15\n"
     ]
    }
   ],
   "source": [
    "# sum of first n natural numbers\n",
    "\n",
    "s = 0\n",
    "n = int(input(\"Enter a number\"))\n",
    "for i in range(n+1):\n",
    "    s += i\n",
    "\n",
    "print(f\"sum of first {n} natural numbers is {s}\")"
   ]
  },
  {
   "cell_type": "code",
   "execution_count": 10,
   "metadata": {},
   "outputs": [
    {
     "name": "stdout",
     "output_type": "stream",
     "text": [
      "Palindrome\n"
     ]
    }
   ],
   "source": [
    "# check whether sting is palindrome or not\n",
    "\n",
    "s = input(\"Enter a string\")\n",
    "if(s == s[::-1]):\n",
    "    print(\"Palindrome\")\n",
    "else:\n",
    "    print(\"Not palindrome\")"
   ]
  },
  {
   "cell_type": "code",
   "execution_count": 12,
   "metadata": {},
   "outputs": [
    {
     "name": "stdout",
     "output_type": "stream",
     "text": [
      "factorial of 5 is 120\n"
     ]
    }
   ],
   "source": [
    "# find factorial of a number\n",
    "\n",
    "f = 1\n",
    "n = int(input(\"Enter a number\"))\n",
    "for i in range(1, n+1):\n",
    "    f = f*i\n",
    "\n",
    "print(f\"factorial of {n} is {f}\")"
   ]
  },
  {
   "cell_type": "code",
   "execution_count": 16,
   "metadata": {},
   "outputs": [
    {
     "name": "stdout",
     "output_type": "stream",
     "text": [
      "prime\n"
     ]
    }
   ],
   "source": [
    "# check if a number is prime or not\n",
    "\n",
    "n = int(input(\"Enter a number\"))\n",
    "f = 1\n",
    "for i in range(2, n):\n",
    "    if(n%i == 0):\n",
    "        print(i)\n",
    "        f = 0\n",
    "        break\n",
    "\n",
    "if f == 1:\n",
    "    print(\"prime\")\n",
    "else:\n",
    "    print(\"not prime\")"
   ]
  },
  {
   "cell_type": "code",
   "execution_count": 17,
   "metadata": {},
   "outputs": [
    {
     "name": "stdout",
     "output_type": "stream",
     "text": [
      "leap year\n"
     ]
    }
   ],
   "source": [
    "# check whether a given year is leap year or not\n",
    "\n",
    "yr = int(input(\"Enter an year\"))\n",
    "if yr % 4 == 0:\n",
    "    if yr % 100 == 0:\n",
    "        if yr % 400 == 0:\n",
    "            print(\"leap year\")\n",
    "        else:\n",
    "            print(\"not leap year\")\n",
    "    else:\n",
    "        print(\"leap year\")\n",
    "else:\n",
    "    print(\"not leap year\")"
   ]
  },
  {
   "cell_type": "code",
   "execution_count": 20,
   "metadata": {},
   "outputs": [
    {
     "name": "stdout",
     "output_type": "stream",
     "text": [
      "78.5\n"
     ]
    }
   ],
   "source": [
    "# area of circle\n",
    "\n",
    "rad = float(input(\"Enter the radius\"))\n",
    "area = 3.14 * rad * rad\n",
    "print(area)"
   ]
  },
  {
   "cell_type": "code",
   "execution_count": 22,
   "metadata": {},
   "outputs": [
    {
     "name": "stdout",
     "output_type": "stream",
     "text": [
      "1\n"
     ]
    }
   ],
   "source": [
    "#smallest element of array\n",
    "a = eval(input(\"Enter an array\"))\n",
    "smol = a[0]\n",
    "for i in a:\n",
    "    if i < smol:\n",
    "        smol = i\n",
    "\n",
    "print(smol)"
   ]
  },
  {
   "cell_type": "code",
   "execution_count": 23,
   "metadata": {},
   "outputs": [
    {
     "name": "stdout",
     "output_type": "stream",
     "text": [
      "15\n"
     ]
    }
   ],
   "source": [
    "# sum of element of array\n",
    "a = eval(input(\"Enter an array\"))\n",
    "sum = 0\n",
    "for i in a:\n",
    "    sum += i\n",
    "\n",
    "print(sum)"
   ]
  }
 ],
 "metadata": {
  "kernelspec": {
   "display_name": "Python 3",
   "language": "python",
   "name": "python3"
  },
  "language_info": {
   "codemirror_mode": {
    "name": "ipython",
    "version": 3
   },
   "file_extension": ".py",
   "mimetype": "text/x-python",
   "name": "python",
   "nbconvert_exporter": "python",
   "pygments_lexer": "ipython3",
   "version": "3.12.1"
  }
 },
 "nbformat": 4,
 "nbformat_minor": 2
}
